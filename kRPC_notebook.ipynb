{
 "cells": [
  {
   "cell_type": "code",
   "execution_count": 1,
   "metadata": {},
   "outputs": [],
   "source": [
    "import krpc\n",
    "import KSP_controls as kspControls\n",
    "from KSP_controls.controller import StagingController as SC\n",
    "from KSP_controls.controller import FlightController as FC"
   ]
  },
  {
   "cell_type": "code",
   "execution_count": 2,
   "metadata": {},
   "outputs": [],
   "source": [
    "conn = krpc.connect()\n",
    "conn = krpc.connect(\n",
    "    name='Control Server',\n",
    "    address='127.0.0.1',\n",
    "    rpc_port=50000,\n",
    "    stream_port=50001\n",
    ")"
   ]
  },
  {
   "cell_type": "code",
   "execution_count": 3,
   "metadata": {},
   "outputs": [],
   "source": [
    "vessel = conn.space_center.active_vessel\n",
    "vessel.name = \"My Vessel\""
   ]
  },
  {
   "cell_type": "code",
   "execution_count": 4,
   "metadata": {},
   "outputs": [
    {
     "name": "stdout",
     "output_type": "stream",
     "text": [
      "85.33014670771081\n"
     ]
    }
   ],
   "source": [
    "\n",
    "flight_info = vessel.flight(reference_frame=vessel.surface_velocity_reference_frame)\n",
    "print(flight_info.mean_altitude)"
   ]
  },
  {
   "cell_type": "code",
   "execution_count": 5,
   "metadata": {},
   "outputs": [
    {
     "name": "stdout",
     "output_type": "stream",
     "text": [
      "-3.246631622314453\n",
      "(0.05719869192777617, 0.9983625640272307, 0.0007073830114495636)\n",
      "0.040596913546323776\n",
      "85.33012709091417\n",
      "0.003107941709458828\n",
      "0.002961238846182823\n"
     ]
    }
   ],
   "source": [
    "print(flight_info.angle_of_attack)\n",
    "print(flight_info.direction)\n",
    "print(flight_info.heading)\n",
    "print(flight_info.mean_altitude)\n",
    "# print(flight_info.lift)\n",
    "# print(flight_info.drag)\n",
    "print(flight_info.true_air_spe+ed)\n",
    "print(flight_info.equivalent_air_speed)\n",
    "\n",
    "# print(flight_info.horizontal_speed)\n",
    "# print(flight_info.speed)\n",
    "# print(flight_info.vertical_speed)\n",
    "# print(flight_info.velocity)\n"
   ]
  },
  {
   "cell_type": "code",
   "execution_count": 6,
   "metadata": {},
   "outputs": [],
   "source": [
    "MyController = FC(conn.space_center.active_vessel)"
   ]
  },
  {
   "cell_type": "code",
   "execution_count": 7,
   "metadata": {},
   "outputs": [
    {
     "data": {
      "text/plain": [
       "1"
      ]
     },
     "execution_count": 7,
     "metadata": {},
     "output_type": "execute_result"
    }
   ],
   "source": [
    "MyController.set_throttle(1)"
   ]
  },
  {
   "cell_type": "code",
   "execution_count": 8,
   "metadata": {},
   "outputs": [],
   "source": [
    "StagingController = SC(conn.space_center.active_vessel)"
   ]
  },
  {
   "cell_type": "code",
   "execution_count": 12,
   "metadata": {},
   "outputs": [
    {
     "ename": "KeyboardInterrupt",
     "evalue": "",
     "output_type": "error",
     "traceback": [
      "\u001b[1;31m---------------------------------------------------------------------------\u001b[0m",
      "\u001b[1;31mKeyboardInterrupt\u001b[0m                         Traceback (most recent call last)",
      "\u001b[1;32m~\\AppData\\Local\\Temp/ipykernel_12580/3371253134.py\u001b[0m in \u001b[0;36m<module>\u001b[1;34m\u001b[0m\n\u001b[1;32m----> 1\u001b[1;33m \u001b[0mStagingController\u001b[0m\u001b[1;33m.\u001b[0m\u001b[0munstage_parts_when_fuel_empty\u001b[0m\u001b[1;33m(\u001b[0m\u001b[1;33m)\u001b[0m\u001b[1;33m\u001b[0m\u001b[1;33m\u001b[0m\u001b[0m\n\u001b[0m",
      "\u001b[1;32mf:\\GitHub\\neural_ksp\\KSP_controls\\controller.py\u001b[0m in \u001b[0;36munstage_parts_when_fuel_empty\u001b[1;34m(self)\u001b[0m\n\u001b[0;32m    248\u001b[0m         \u001b[1;32mwhile\u001b[0m \u001b[0mengines_have_fuel\u001b[0m\u001b[1;33m:\u001b[0m\u001b[1;33m\u001b[0m\u001b[1;33m\u001b[0m\u001b[0m\n\u001b[0;32m    249\u001b[0m             \u001b[1;32mfor\u001b[0m \u001b[0mengine\u001b[0m \u001b[1;32min\u001b[0m \u001b[0mengines_to_be_decoupled\u001b[0m\u001b[1;33m:\u001b[0m\u001b[1;33m\u001b[0m\u001b[1;33m\u001b[0m\u001b[0m\n\u001b[1;32m--> 250\u001b[1;33m                 \u001b[1;32mif\u001b[0m \u001b[0mengine\u001b[0m\u001b[1;33m.\u001b[0m\u001b[0mhas_fuel\u001b[0m\u001b[1;33m:\u001b[0m\u001b[1;33m\u001b[0m\u001b[1;33m\u001b[0m\u001b[0m\n\u001b[0m\u001b[0;32m    251\u001b[0m                     \u001b[0mengines_have_fuel\u001b[0m \u001b[1;33m=\u001b[0m \u001b[1;32mTrue\u001b[0m\u001b[1;33m\u001b[0m\u001b[1;33m\u001b[0m\u001b[0m\n\u001b[0;32m    252\u001b[0m                     \u001b[1;32mbreak\u001b[0m\u001b[1;33m\u001b[0m\u001b[1;33m\u001b[0m\u001b[0m\n",
      "\u001b[1;32m<string>\u001b[0m in \u001b[0;36m<lambda>\u001b[1;34m(self)\u001b[0m\n",
      "\u001b[1;32mc:\\Users\\samra\\AppData\\Local\\Programs\\Python\\Python39\\lib\\site-packages\\krpc\\client.py\u001b[0m in \u001b[0;36m_invoke\u001b[1;34m(self, service, procedure, args, param_names, param_types, return_type)\u001b[0m\n\u001b[0;32m    153\u001b[0m         \u001b[1;32mwith\u001b[0m \u001b[0mself\u001b[0m\u001b[1;33m.\u001b[0m\u001b[0m_rpc_connection_lock\u001b[0m\u001b[1;33m:\u001b[0m\u001b[1;33m\u001b[0m\u001b[1;33m\u001b[0m\u001b[0m\n\u001b[0;32m    154\u001b[0m             \u001b[0mself\u001b[0m\u001b[1;33m.\u001b[0m\u001b[0m_rpc_connection\u001b[0m\u001b[1;33m.\u001b[0m\u001b[0msend_message\u001b[0m\u001b[1;33m(\u001b[0m\u001b[0mrequest\u001b[0m\u001b[1;33m)\u001b[0m\u001b[1;33m\u001b[0m\u001b[1;33m\u001b[0m\u001b[0m\n\u001b[1;32m--> 155\u001b[1;33m             \u001b[0mresponse\u001b[0m \u001b[1;33m=\u001b[0m \u001b[0mself\u001b[0m\u001b[1;33m.\u001b[0m\u001b[0m_rpc_connection\u001b[0m\u001b[1;33m.\u001b[0m\u001b[0mreceive_message\u001b[0m\u001b[1;33m(\u001b[0m\u001b[0mKRPC\u001b[0m\u001b[1;33m.\u001b[0m\u001b[0mResponse\u001b[0m\u001b[1;33m)\u001b[0m\u001b[1;33m\u001b[0m\u001b[1;33m\u001b[0m\u001b[0m\n\u001b[0m\u001b[0;32m    156\u001b[0m \u001b[1;33m\u001b[0m\u001b[0m\n\u001b[0;32m    157\u001b[0m         \u001b[1;31m# Check for an error response\u001b[0m\u001b[1;33m\u001b[0m\u001b[1;33m\u001b[0m\u001b[1;33m\u001b[0m\u001b[0m\n",
      "\u001b[1;32mc:\\Users\\samra\\AppData\\Local\\Programs\\Python\\Python39\\lib\\site-packages\\krpc\\connection.py\u001b[0m in \u001b[0;36mreceive_message\u001b[1;34m(self, typ)\u001b[0m\n\u001b[0;32m     33\u001b[0m         \u001b[1;32mwhile\u001b[0m \u001b[1;32mTrue\u001b[0m\u001b[1;33m:\u001b[0m\u001b[1;33m\u001b[0m\u001b[1;33m\u001b[0m\u001b[0m\n\u001b[0;32m     34\u001b[0m             \u001b[1;32mtry\u001b[0m\u001b[1;33m:\u001b[0m\u001b[1;33m\u001b[0m\u001b[1;33m\u001b[0m\u001b[0m\n\u001b[1;32m---> 35\u001b[1;33m                 \u001b[0mdata\u001b[0m \u001b[1;33m+=\u001b[0m \u001b[0mself\u001b[0m\u001b[1;33m.\u001b[0m\u001b[0mpartial_receive\u001b[0m\u001b[1;33m(\u001b[0m\u001b[1;36m1\u001b[0m\u001b[1;33m)\u001b[0m\u001b[1;33m\u001b[0m\u001b[1;33m\u001b[0m\u001b[0m\n\u001b[0m\u001b[0;32m     36\u001b[0m                 \u001b[0msize\u001b[0m \u001b[1;33m=\u001b[0m \u001b[0mDecoder\u001b[0m\u001b[1;33m.\u001b[0m\u001b[0mdecode_message_size\u001b[0m\u001b[1;33m(\u001b[0m\u001b[0mdata\u001b[0m\u001b[1;33m)\u001b[0m\u001b[1;33m\u001b[0m\u001b[1;33m\u001b[0m\u001b[0m\n\u001b[0;32m     37\u001b[0m                 \u001b[1;32mbreak\u001b[0m\u001b[1;33m\u001b[0m\u001b[1;33m\u001b[0m\u001b[0m\n",
      "\u001b[1;32mc:\\Users\\samra\\AppData\\Local\\Programs\\Python\\Python39\\lib\\site-packages\\krpc\\connection.py\u001b[0m in \u001b[0;36mpartial_receive\u001b[1;34m(self, length, timeout)\u001b[0m\n\u001b[0;32m     72\u001b[0m         \u001b[1;32massert\u001b[0m \u001b[0mlength\u001b[0m \u001b[1;33m>\u001b[0m \u001b[1;36m0\u001b[0m\u001b[1;33m\u001b[0m\u001b[1;33m\u001b[0m\u001b[0m\n\u001b[0;32m     73\u001b[0m         \u001b[1;32mtry\u001b[0m\u001b[1;33m:\u001b[0m\u001b[1;33m\u001b[0m\u001b[1;33m\u001b[0m\u001b[0m\n\u001b[1;32m---> 74\u001b[1;33m             \u001b[0mready\u001b[0m \u001b[1;33m=\u001b[0m \u001b[0mselect\u001b[0m\u001b[1;33m.\u001b[0m\u001b[0mselect\u001b[0m\u001b[1;33m(\u001b[0m\u001b[1;33m[\u001b[0m\u001b[0mself\u001b[0m\u001b[1;33m.\u001b[0m\u001b[0m_socket\u001b[0m\u001b[1;33m]\u001b[0m\u001b[1;33m,\u001b[0m \u001b[1;33m[\u001b[0m\u001b[1;33m]\u001b[0m\u001b[1;33m,\u001b[0m \u001b[1;33m[\u001b[0m\u001b[1;33m]\u001b[0m\u001b[1;33m,\u001b[0m \u001b[0mtimeout\u001b[0m\u001b[1;33m)\u001b[0m\u001b[1;33m\u001b[0m\u001b[1;33m\u001b[0m\u001b[0m\n\u001b[0m\u001b[0;32m     75\u001b[0m         \u001b[1;32mexcept\u001b[0m \u001b[0mValueError\u001b[0m\u001b[1;33m:\u001b[0m\u001b[1;33m\u001b[0m\u001b[1;33m\u001b[0m\u001b[0m\n\u001b[0;32m     76\u001b[0m             \u001b[1;32mraise\u001b[0m \u001b[0msocket\u001b[0m\u001b[1;33m.\u001b[0m\u001b[0merror\u001b[0m\u001b[1;33m(\u001b[0m\u001b[1;34m\"Connection closed\"\u001b[0m\u001b[1;33m)\u001b[0m\u001b[1;33m\u001b[0m\u001b[1;33m\u001b[0m\u001b[0m\n",
      "\u001b[1;31mKeyboardInterrupt\u001b[0m: "
     ]
    }
   ],
   "source": [
    "StagingController.unstage_parts_when_fuel_empty()"
   ]
  },
  {
   "cell_type": "code",
   "execution_count": null,
   "metadata": {},
   "outputs": [
    {
     "name": "stdout",
     "output_type": "stream",
     "text": [
      "7\n",
      "engines decoupled: [<SpaceCenter.Part remote object #94>, <SpaceCenter.Part remote object #101>]\n"
     ]
    }
   ],
   "source": [
    "curr_stage = vessel.control.current_stage\n",
    "print(curr_stage)\n",
    "in_decouple_stage_parts = vessel.parts.in_decouple_stage(curr_stage-1)\n",
    "in_stage_parts = vessel.parts.in_stage(curr_stage)\n",
    "\n",
    "# print(\"in stage:\", in_stage_parts)\n",
    "# print(\"in decouple:\",in_decouple_stage_parts)\n",
    "\n",
    "# decouple_stage_parts = self.vessel_parts.in_decouple_stage(self.curr_stage)\n",
    "engines_to_be_decoupled = []\n",
    "for part in in_decouple_stage_parts:\n",
    "    if part.engine:\n",
    "        engines_to_be_decoupled.append(part)\n",
    "\n",
    "engines_in_stage = []\n",
    "for part in in_stage_parts:\n",
    "    if part.engine:\n",
    "        engines_in_stage.append(part)\n",
    "        \n",
    "# print(\"engines in stage:\", engines_in_stage)\n",
    "print(\"engines decoupled:\", engines_to_be_decoupled)"
   ]
  },
  {
   "cell_type": "code",
   "execution_count": null,
   "metadata": {},
   "outputs": [],
   "source": [
    "engines_have_fuel = True\n",
    "\n",
    "while engines_have_fuel:\n",
    "    for engine in engines_to_be_decoupled:\n",
    "        if engine.engine.has_fuel:\n",
    "            print(\"Engines have fuel\")\n",
    "            break\n",
    "            \n",
    "        \n",
    "        # should only reach here if no engines have fuel\n",
    "        engines_have_fuel = False\n",
    "        print(\"Engines empty\")\n",
    "        print(\"decoupling...\")\n",
    "        break"
   ]
  },
  {
   "cell_type": "code",
   "execution_count": null,
   "metadata": {},
   "outputs": [
    {
     "name": "stdout",
     "output_type": "stream",
     "text": [
      "[]\n"
     ]
    }
   ],
   "source": [
    "engines = StagingController.get_engines_to_be_decoupled()\n",
    "print(engines)"
   ]
  }
 ],
 "metadata": {
  "kernelspec": {
   "display_name": "Python 3",
   "language": "python",
   "name": "python3"
  },
  "language_info": {
   "codemirror_mode": {
    "name": "ipython",
    "version": 3
   },
   "file_extension": ".py",
   "mimetype": "text/x-python",
   "name": "python",
   "nbconvert_exporter": "python",
   "pygments_lexer": "ipython3",
   "version": "3.9.2"
  },
  "orig_nbformat": 4,
  "vscode": {
   "interpreter": {
    "hash": "6ba30efa6c83cc67155e3cb155424c99993961b2961767482ff7a5c4fd7da020"
   }
  }
 },
 "nbformat": 4,
 "nbformat_minor": 2
}
